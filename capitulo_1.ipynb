{
 "nbformat": 4,
 "nbformat_minor": 2,
 "metadata": {
  "language_info": {
   "name": "python",
   "codemirror_mode": {
    "name": "ipython",
    "version": 3
   },
   "version": "3.7.3-final"
  },
  "orig_nbformat": 2,
  "file_extension": ".py",
  "mimetype": "text/x-python",
  "name": "python",
  "npconvert_exporter": "python",
  "pygments_lexer": "ipython3",
  "version": 3,
  "kernelspec": {
   "name": "python3",
   "display_name": "Python 3"
  }
 },
 "cells": [
  {
   "cell_type": "markdown",
   "metadata": {},
   "source": [
    "**Clean Code - Capítulo 1** "
   ]
  },
  {
   "cell_type": "markdown",
   "metadata": {},
   "source": [
    "A filosofia dos 5s:\n",
    "- Seiri -> organização (pense em \"ordenar\")\n",
    "- Seiton -> arrumação (pense em \"sistematizar\")\n",
    "- Seiso -> limpeza (pense em \"polir\")\n",
    "- Seiketsu -> padronização\n",
    "- Shutsuke -> disciplina (autodisciplina)"
   ]
  },
  {
   "cell_type": "markdown",
   "metadata": {},
   "source": [
    "Parei na página 13"
   ]
  }
 ]
}